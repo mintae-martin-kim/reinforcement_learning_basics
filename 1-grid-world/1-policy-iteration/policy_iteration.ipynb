{
 "cells": [
  {
   "attachments": {},
   "cell_type": "markdown",
   "metadata": {},
   "source": [
    "## Policy Iteration\n",
    "#### Bellman Expectation Equation\n",
    "##### *Mintae Kim, Hybrid Robotics Lab, UC Berkeley*\n",
    "##### 07/15/2023"
   ]
  },
  {
   "attachments": {},
   "cell_type": "markdown",
   "metadata": {},
   "source": [
    "### Import Packages\n",
    "\n"
   ]
  },
  {
   "cell_type": "code",
   "execution_count": null,
   "metadata": {},
   "outputs": [],
   "source": [
    "import numpy as np\n",
    "from environment import GraphicDisplay, Env"
   ]
  },
  {
   "attachments": {},
   "cell_type": "markdown",
   "metadata": {},
   "source": [
    "### Implementation of Policy Iteration\n",
    "```python\n",
    "class PolicyIteration:\n",
    "    def __init__(self, env):\n",
    "        pass\n",
    "    def policy_evaluation(self):\n",
    "        pass\n",
    "    def policy_improvement(self):\n",
    "        pass\n",
    "    def get_action(self, state):\n",
    "        pass\n",
    "    def get_policy(self, state):\n",
    "        pass\n",
    "    def get_value(self, state):\n",
    "        pass\n",
    "```"
   ]
  },
  {
   "cell_type": "code",
   "execution_count": null,
   "metadata": {},
   "outputs": [],
   "source": [
    "class PolicyIteration:\n",
    "    def __init__(self, env):\n",
    "        # Declare environment\n",
    "        self.env = env\n",
    "        # Initialize value function table (2D list)\n",
    "        self.value_table = [[0.0] * env.width for _ in range(env.height)]\n",
    "        # Initialize of policy: P(Up) = P(Down) = P(Left) = P(Right) = 0.25\n",
    "        self.policy_table = [[[0.25, 0.25, 0.25, 0.25]] * env.width\n",
    "                            for _ in range(env.height)]\n",
    "        # Terminal state: Stops when the agent reaches at [2][2]\n",
    "        self.policy_table[2][2] = []\n",
    "        # Discount factor $\\gamma$\n",
    "        self.discount_factor = 0.9\n",
    "\n",
    "    # Policy evaluation through Bellman Expectation Equation\n",
    "    def policy_evaluation(self):\n",
    "        # Initialize next value function\n",
    "        next_value_table = [[0.00] * self.env.width\n",
    "                           for _ in range(self.env.height)]\n",
    "\n",
    "        # Compute value function by solving Bellman Expectation Equation for every state\n",
    "        for state in self.env.get_all_states():\n",
    "            value = 0.0\n",
    "            # Terminal state value = 0\n",
    "            if state == [2, 2]:\n",
    "                next_value_table[state[0]][state[1]] = value\n",
    "                continue\n",
    "\n",
    "            # Bellman Expectation Equation\n",
    "            for action in self.env.possible_actions:\n",
    "                next_state = self.env.state_after_action(state, action)\n",
    "                reward = self.env.get_reward(state, action)\n",
    "                next_value = self.get_value(next_state)\n",
    "                value += (self.get_policy(state)[action] *\n",
    "                          (reward + self.discount_factor * next_value))\n",
    "\n",
    "            next_value_table[state[0]][state[1]] = value\n",
    "\n",
    "        self.value_table = next_value_table\n",
    "\n",
    "    # Policy improvement with respect to the updated value function\n",
    "    def policy_improvement(self):\n",
    "        next_policy = self.policy_table\n",
    "\n",
    "        # Compute policy for every state\n",
    "        for state in self.env.get_all_states():\n",
    "            if state == [2, 2]:\n",
    "                continue\n",
    "            \n",
    "            value_list = []\n",
    "            # Initialize policy to return (Up, Down, Left, Right)\n",
    "            result = [0.0, 0.0, 0.0, 0.0]\n",
    "\n",
    "            # Compute return (Reward + Discount Factor * Next State Value) for every action\n",
    "            for index, action in enumerate(self.env.possible_actions):\n",
    "                next_state = self.env.state_after_action(state, action)\n",
    "                reward = self.env.get_reward(state, action)\n",
    "                next_value = self.get_value(next_state)\n",
    "                value = reward + self.discount_factor * next_value\n",
    "                value_list.append(value)\n",
    "\n",
    "            # Greedy policy improvement with respect to the actions with greatest return\n",
    "            max_idx_list = np.argwhere(value_list == np.amax(value_list))\n",
    "            max_idx_list = max_idx_list.flatten().tolist()\n",
    "            prob = 1 / len(max_idx_list)\n",
    "\n",
    "            for idx in max_idx_list:\n",
    "                result[idx] = prob\n",
    "\n",
    "            next_policy[state[0]][state[1]] = result\n",
    "\n",
    "        self.policy_table = next_policy\n",
    "\n",
    "    # Return random action when state is given\n",
    "    def get_action(self, state):\n",
    "        policy = self.get_policy(state)\n",
    "        policy = np.array(policy)\n",
    "        return np.random.choice(4, 1, p=policy)[0]\n",
    "\n",
    "    # Return policy when state is given\n",
    "    def get_policy(self, state):\n",
    "        return self.policy_table[state[0]][state[1]]\n",
    "\n",
    "    # Return state value \n",
    "    def get_value(self, state):\n",
    "        return self.value_table[state[0]][state[1]]"
   ]
  },
  {
   "attachments": {},
   "cell_type": "markdown",
   "metadata": {},
   "source": [
    "### Execution"
   ]
  },
  {
   "cell_type": "code",
   "execution_count": null,
   "metadata": {},
   "outputs": [],
   "source": [
    "if __name__ == \"__main__\":\n",
    "    env = Env()\n",
    "    policy_iteration = PolicyIteration(env)\n",
    "    grid_world = GraphicDisplay(policy_iteration)\n",
    "    grid_world.mainloop()"
   ]
  }
 ],
 "metadata": {
  "language_info": {
   "name": "python"
  },
  "orig_nbformat": 4
 },
 "nbformat": 4,
 "nbformat_minor": 2
}
